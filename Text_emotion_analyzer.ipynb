{
  "nbformat": 4,
  "nbformat_minor": 0,
  "metadata": {
    "colab": {
      "provenance": [],
      "authorship_tag": "ABX9TyMPf4z5X9+sTDbl7lPUAHN/",
      "include_colab_link": true
    },
    "kernelspec": {
      "name": "python3",
      "display_name": "Python 3"
    },
    "language_info": {
      "name": "python"
    }
  },
  "cells": [
    {
      "cell_type": "markdown",
      "metadata": {
        "id": "view-in-github",
        "colab_type": "text"
      },
      "source": [
        "<a href=\"https://colab.research.google.com/github/SANJAYKUMAR9324/Project/blob/main/Text_emotion_analyzer.ipynb\" target=\"_parent\"><img src=\"https://colab.research.google.com/assets/colab-badge.svg\" alt=\"Open In Colab\"/></a>"
      ]
    },
    {
      "cell_type": "code",
      "execution_count": 1,
      "metadata": {
        "colab": {
          "base_uri": "https://localhost:8080/"
        },
        "id": "oG5nhNvViuYm",
        "outputId": "8fdf6536-45a2-4dbb-d1af-afafc1a78031"
      },
      "outputs": [
        {
          "output_type": "stream",
          "name": "stdout",
          "text": [
            "Requirement already satisfied: textblob in /usr/local/lib/python3.10/dist-packages (0.17.1)\n",
            "Requirement already satisfied: nltk>=3.1 in /usr/local/lib/python3.10/dist-packages (from textblob) (3.8.1)\n",
            "Requirement already satisfied: click in /usr/local/lib/python3.10/dist-packages (from nltk>=3.1->textblob) (8.1.7)\n",
            "Requirement already satisfied: joblib in /usr/local/lib/python3.10/dist-packages (from nltk>=3.1->textblob) (1.4.2)\n",
            "Requirement already satisfied: regex>=2021.8.3 in /usr/local/lib/python3.10/dist-packages (from nltk>=3.1->textblob) (2024.9.11)\n",
            "Requirement already satisfied: tqdm in /usr/local/lib/python3.10/dist-packages (from nltk>=3.1->textblob) (4.66.5)\n"
          ]
        }
      ],
      "source": [
        "!pip install textblob"
      ]
    },
    {
      "cell_type": "code",
      "source": [
        "import textblob\n",
        "\n",
        "# Function to analyze emotion\n",
        "def analyze_emotion(text):\n",
        "    # Create textblob TextBlob object\n",
        "    blob = textblob.TextBlob(text)\n",
        "\n",
        "    # Get sentiment (polarity)\n",
        "    sentiment = blob.sentiment.polarity\n",
        "\n",
        "    # Classify emotion based on sentiment\n",
        "    if sentiment > 0.5:\n",
        "        emotion = \"Very Positive\"\n",
        "    elif 0 < sentiment <= 0.5:\n",
        "        emotion = \"Positive\"\n",
        "    elif sentiment == 0:\n",
        "        emotion = \"Neutral\"\n",
        "    elif -0.5 < sentiment < 0:\n",
        "        emotion = \"Negative\"\n",
        "    else:\n",
        "        emotion = \"Very Negative\"\n",
        "\n",
        "    return emotion\n",
        "\n",
        "# Function to repeatedly get user input and analyze emotion\n",
        "def analyze_user_text():\n",
        "    while True:\n",
        "        # Get user input\n",
        "        user_text = input(\"Enter a sentence to analyze (or type 'exit' to stop): \")\n",
        "\n",
        "        # Exit condition\n",
        "        if user_text.lower() == 'exit':\n",
        "            print(\"Exiting the emotion analyzer. Bye!\")\n",
        "            break\n",
        "\n",
        "        # Analyze emotion\n",
        "        predicted_emotion = analyze_emotion(user_text)\n",
        "\n",
        "        # Print result\n",
        "        print(f\"Predicted Emotion for '{user_text}': {predicted_emotion}\")\n",
        "\n",
        "# Start the emotion analysis loop\n",
        "analyze_user_text()\n"
      ],
      "metadata": {
        "colab": {
          "base_uri": "https://localhost:8080/"
        },
        "id": "NLQ_YprBivmo",
        "outputId": "ae3df63a-fa8c-473f-c091-ac07458b9939"
      },
      "execution_count": 2,
      "outputs": [
        {
          "output_type": "stream",
          "name": "stdout",
          "text": [
            "Enter a sentence to analyze (or type 'exit' to stop): BMS is te best college\n",
            "Predicted Emotion for 'BMS is te best college': Very Positive\n",
            "Enter a sentence to analyze (or type 'exit' to stop): I am fine\n",
            "Predicted Emotion for 'I am fine': Positive\n",
            "Enter a sentence to analyze (or type 'exit' to stop): she went outside\n",
            "Predicted Emotion for 'she went outside': Neutral\n",
            "Enter a sentence to analyze (or type 'exit' to stop): I got rejected in the interview\n",
            "Predicted Emotion for 'I got rejected in the interview': Neutral\n",
            "Enter a sentence to analyze (or type 'exit' to stop): I failed in exam\n",
            "Predicted Emotion for 'I failed in exam': Very Negative\n",
            "Enter a sentence to analyze (or type 'exit' to stop): I am too good\n",
            "Predicted Emotion for 'I am too good': Very Positive\n",
            "Enter a sentence to analyze (or type 'exit' to stop): exit\n",
            "Exiting the emotion analyzer. Bye!\n"
          ]
        }
      ]
    },
    {
      "cell_type": "code",
      "source": [],
      "metadata": {
        "id": "CSG3OHoEi5S_"
      },
      "execution_count": null,
      "outputs": []
    }
  ]
}